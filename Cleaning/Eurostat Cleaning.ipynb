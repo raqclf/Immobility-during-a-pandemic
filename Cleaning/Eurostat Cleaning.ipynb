{
 "cells": [
  {
   "cell_type": "code",
   "execution_count": 7,
   "id": "583b61fb",
   "metadata": {},
   "outputs": [
    {
     "ename": "AttributeError",
     "evalue": "partially initialized module 'pandas' has no attribute 'core' (most likely due to a circular import)",
     "output_type": "error",
     "traceback": [
      "\u001b[1;31m---------------------------------------------------------------------------\u001b[0m",
      "\u001b[1;31mAttributeError\u001b[0m                            Traceback (most recent call last)",
      "\u001b[1;32m~\\AppData\\Local\\Temp/ipykernel_13624/2399038796.py\u001b[0m in \u001b[0;36m<module>\u001b[1;34m\u001b[0m\n\u001b[0;32m      1\u001b[0m \u001b[1;31m#Import libraries\u001b[0m\u001b[1;33m\u001b[0m\u001b[1;33m\u001b[0m\u001b[0m\n\u001b[1;32m----> 2\u001b[1;33m \u001b[1;32mimport\u001b[0m \u001b[0mpandas\u001b[0m \u001b[1;32mas\u001b[0m \u001b[0mpd\u001b[0m\u001b[1;33m\u001b[0m\u001b[1;33m\u001b[0m\u001b[0m\n\u001b[0m\u001b[0;32m      3\u001b[0m \u001b[1;32mimport\u001b[0m \u001b[0mnumpy\u001b[0m \u001b[1;32mas\u001b[0m \u001b[0mnp\u001b[0m\u001b[1;33m\u001b[0m\u001b[1;33m\u001b[0m\u001b[0m\n\u001b[0;32m      4\u001b[0m \u001b[1;32mimport\u001b[0m \u001b[0mmath\u001b[0m\u001b[1;33m\u001b[0m\u001b[1;33m\u001b[0m\u001b[0m\n\u001b[0;32m      5\u001b[0m \u001b[1;32mimport\u001b[0m \u001b[0mstatistics\u001b[0m \u001b[1;32mas\u001b[0m \u001b[0mstats\u001b[0m\u001b[1;33m\u001b[0m\u001b[1;33m\u001b[0m\u001b[0m\n",
      "\u001b[1;32m~\\anaconda3\\lib\\site-packages\\pandas\\__init__.py\u001b[0m in \u001b[0;36m<module>\u001b[1;34m\u001b[0m\n\u001b[0;32m    177\u001b[0m \u001b[1;33m\u001b[0m\u001b[0m\n\u001b[0;32m    178\u001b[0m \u001b[1;32mfrom\u001b[0m \u001b[0mpandas\u001b[0m\u001b[1;33m.\u001b[0m\u001b[0mutil\u001b[0m\u001b[1;33m.\u001b[0m\u001b[0m_tester\u001b[0m \u001b[1;32mimport\u001b[0m \u001b[0mtest\u001b[0m\u001b[1;33m\u001b[0m\u001b[1;33m\u001b[0m\u001b[0m\n\u001b[1;32m--> 179\u001b[1;33m \u001b[1;32mimport\u001b[0m \u001b[0mpandas\u001b[0m\u001b[1;33m.\u001b[0m\u001b[0mtesting\u001b[0m\u001b[1;33m\u001b[0m\u001b[1;33m\u001b[0m\u001b[0m\n\u001b[0m\u001b[0;32m    180\u001b[0m \u001b[1;32mimport\u001b[0m \u001b[0mpandas\u001b[0m\u001b[1;33m.\u001b[0m\u001b[0marrays\u001b[0m\u001b[1;33m\u001b[0m\u001b[1;33m\u001b[0m\u001b[0m\n\u001b[0;32m    181\u001b[0m \u001b[1;33m\u001b[0m\u001b[0m\n",
      "\u001b[1;32m~\\anaconda3\\lib\\site-packages\\pandas\\testing.py\u001b[0m in \u001b[0;36m<module>\u001b[1;34m\u001b[0m\n\u001b[0;32m      4\u001b[0m \u001b[1;33m\u001b[0m\u001b[0m\n\u001b[0;32m      5\u001b[0m \u001b[1;33m\u001b[0m\u001b[0m\n\u001b[1;32m----> 6\u001b[1;33m from pandas._testing import (\n\u001b[0m\u001b[0;32m      7\u001b[0m     \u001b[0massert_extension_array_equal\u001b[0m\u001b[1;33m,\u001b[0m\u001b[1;33m\u001b[0m\u001b[1;33m\u001b[0m\u001b[0m\n\u001b[0;32m      8\u001b[0m     \u001b[0massert_frame_equal\u001b[0m\u001b[1;33m,\u001b[0m\u001b[1;33m\u001b[0m\u001b[1;33m\u001b[0m\u001b[0m\n",
      "\u001b[1;32m~\\anaconda3\\lib\\site-packages\\pandas\\_testing\\__init__.py\u001b[0m in \u001b[0;36m<module>\u001b[1;34m\u001b[0m\n\u001b[0;32m    946\u001b[0m \u001b[1;33m\u001b[0m\u001b[0m\n\u001b[0;32m    947\u001b[0m \u001b[1;33m\u001b[0m\u001b[0m\n\u001b[1;32m--> 948\u001b[1;33m \u001b[0mcython_table\u001b[0m \u001b[1;33m=\u001b[0m \u001b[0mpd\u001b[0m\u001b[1;33m.\u001b[0m\u001b[0mcore\u001b[0m\u001b[1;33m.\u001b[0m\u001b[0mcommon\u001b[0m\u001b[1;33m.\u001b[0m\u001b[0m_cython_table\u001b[0m\u001b[1;33m.\u001b[0m\u001b[0mitems\u001b[0m\u001b[1;33m(\u001b[0m\u001b[1;33m)\u001b[0m\u001b[1;33m\u001b[0m\u001b[1;33m\u001b[0m\u001b[0m\n\u001b[0m\u001b[0;32m    949\u001b[0m \u001b[1;33m\u001b[0m\u001b[0m\n\u001b[0;32m    950\u001b[0m \u001b[1;33m\u001b[0m\u001b[0m\n",
      "\u001b[1;31mAttributeError\u001b[0m: partially initialized module 'pandas' has no attribute 'core' (most likely due to a circular import)"
     ]
    }
   ],
   "source": [
    "#Import libraries\n",
    "import pandas as pd\n",
    "import numpy as np\n",
    "import math\n",
    "import statistics as stats\n",
    "import sys\n",
    "import seaborn as sns\n",
    "import matplotlib.pyplot as plt\n",
    "%matplotlib inline "
   ]
  },
  {
   "cell_type": "markdown",
   "id": "4985ede1",
   "metadata": {},
   "source": [
    "## 2. Cleaning Eurostat application and decision dataframes\n",
    " #### A few differences from UNHCR data\n",
    " - Annual data since 2008;\n",
    " - There is aggregated data per EU27, EU28 and extra communitarian countries; \n",
    " - Greater number of considered countries, such as the Vatican, and they use iso code 2;\n",
    " - There is monthly data available, important to compare with Covid-19 cases;\n",
    " - There is only data per person, not per case;\n",
    " - Includes information on gender and age;\n",
    " - Asylum application types includes asylum (person depositing an applications), first application (in a different Member State) and subsequent claims."
   ]
  },
  {
   "cell_type": "markdown",
   "id": "0605ed4d",
   "metadata": {},
   "source": [
    "### 2.1. Asylum applicants by type of application, citzenship, age, sex - Annual data"
   ]
  },
  {
   "cell_type": "code",
   "execution_count": 5,
   "id": "9c5c1c63",
   "metadata": {},
   "outputs": [
    {
     "ename": "NameError",
     "evalue": "name 'pd' is not defined",
     "output_type": "error",
     "traceback": [
      "\u001b[1;31m---------------------------------------------------------------------------\u001b[0m",
      "\u001b[1;31mNameError\u001b[0m                                 Traceback (most recent call last)",
      "\u001b[1;32m~\\AppData\\Local\\Temp/ipykernel_13624/1530590889.py\u001b[0m in \u001b[0;36m<module>\u001b[1;34m\u001b[0m\n\u001b[1;32m----> 1\u001b[1;33m \u001b[0meuro_applications\u001b[0m \u001b[1;33m=\u001b[0m \u001b[0mpd\u001b[0m\u001b[1;33m.\u001b[0m\u001b[0mread_csv\u001b[0m\u001b[1;33m(\u001b[0m\u001b[1;34m'data/Eurostat/migr_asyappctza_linear.csv'\u001b[0m\u001b[1;33m)\u001b[0m\u001b[1;33m\u001b[0m\u001b[1;33m\u001b[0m\u001b[0m\n\u001b[0m\u001b[0;32m      2\u001b[0m \u001b[0meuro_applications\u001b[0m\u001b[1;33m.\u001b[0m\u001b[0mcolumns\u001b[0m \u001b[1;33m=\u001b[0m \u001b[0mlist\u001b[0m\u001b[1;33m(\u001b[0m\u001b[0mmap\u001b[0m\u001b[1;33m(\u001b[0m\u001b[1;32mlambda\u001b[0m \u001b[0mx\u001b[0m\u001b[1;33m:\u001b[0m \u001b[0mx\u001b[0m\u001b[1;33m.\u001b[0m\u001b[0mlower\u001b[0m\u001b[1;33m(\u001b[0m\u001b[1;33m)\u001b[0m\u001b[1;33m.\u001b[0m\u001b[0mreplace\u001b[0m\u001b[1;33m(\u001b[0m\u001b[1;34m' '\u001b[0m\u001b[1;33m,\u001b[0m \u001b[1;34m'_'\u001b[0m\u001b[1;33m)\u001b[0m\u001b[1;33m,\u001b[0m \u001b[0meuro_applications\u001b[0m\u001b[1;33m.\u001b[0m\u001b[0mcolumns\u001b[0m\u001b[1;33m)\u001b[0m\u001b[1;33m)\u001b[0m\u001b[1;33m\u001b[0m\u001b[1;33m\u001b[0m\u001b[0m\n",
      "\u001b[1;31mNameError\u001b[0m: name 'pd' is not defined"
     ]
    }
   ],
   "source": [
    "euro_applications = pd.read_csv('data/Eurostat/migr_asyappctza_linear.csv')\n",
    "euro_applications.columns = list(map(lambda x: x.lower().replace(' ', '_'), euro_applications.columns))"
   ]
  },
  {
   "cell_type": "code",
   "execution_count": 3,
   "id": "23c8810b",
   "metadata": {
    "scrolled": false
   },
   "outputs": [
    {
     "data": {
      "text/plain": [
       "Index(['dataflow', 'last_update', 'freq', 'citizen', 'sex', 'unit', 'age',\n",
       "       'asyl_app', 'geo', 'time_period', 'obs_value', 'obs_flag'],\n",
       "      dtype='object')"
      ]
     },
     "execution_count": 3,
     "metadata": {},
     "output_type": "execute_result"
    }
   ],
   "source": [
    "euro_applications.columns"
   ]
  },
  {
   "cell_type": "code",
   "execution_count": 4,
   "id": "d6e656f4",
   "metadata": {
    "scrolled": true
   },
   "outputs": [
    {
     "data": {
      "text/plain": [
       "dataflow                            [ESTAT:MIGR_ASYAPPCTZA(1.0)]\n",
       "last_update                                  [07/04/22 11:00:00]\n",
       "freq                                                         [A]\n",
       "citizen        [AD, AE, AF, AG, AL, AM, AO, AR, AT, AU, AZ, B...\n",
       "sex                                               [F, M, T, UNK]\n",
       "unit                                                       [PER]\n",
       "age            [TOTAL, UNK, Y14-17, Y18-34, Y35-64, Y_GE65, Y...\n",
       "asyl_app                               [ASY_APP, NASY_APP, SSEQ]\n",
       "geo            [AT, BE, BG, CH, CY, CZ, DE, DK, EE, EL, ES, E...\n",
       "time_period    [2008, 2009, 2010, 2011, 2012, 2013, 2014, 201...\n",
       "obs_value      [0.0, 5.0, 10.0, 15.0, 25.0, 20.0, 410.0, 480....\n",
       "obs_flag                                             [nan, d, p]\n",
       "dtype: object"
      ]
     },
     "execution_count": 4,
     "metadata": {},
     "output_type": "execute_result"
    }
   ],
   "source": [
    "euro_applications.apply(pd.Series.unique)"
   ]
  },
  {
   "cell_type": "code",
   "execution_count": 5,
   "id": "28fa2cb1",
   "metadata": {},
   "outputs": [],
   "source": [
    "euro_applications = euro_applications.drop(['dataflow', 'last_update', 'freq', 'obs_flag','unit'], axis=1)\n",
    "#Frequency is annual;\n",
    "#Unit is per person only;\n",
    "#Flag footnote\n",
    "#Drop Total from age\n",
    "euro_applications = euro_applications[~euro_applications['age'].isin(['TOTAL'])]\n",
    "euro_applications = euro_applications[~euro_applications['sex'].isin(['T'])]"
   ]
  },
  {
   "cell_type": "code",
   "execution_count": 6,
   "id": "f012c231",
   "metadata": {
    "scrolled": true
   },
   "outputs": [],
   "source": [
    "euro_applications['citizen'].isna().sum()/len(euro_applications['citizen'])\n",
    "#Very small number of Nans, so we will be placing then together with UNK\"\n",
    "euro_applications['citizen'] = euro_applications['citizen'].fillna('UNK')\n",
    "euro_applications = euro_applications[~euro_applications['citizen'].isin(['EXT_EU27_2020','EXT_EU28','TOTAL'])]"
   ]
  },
  {
   "cell_type": "code",
   "execution_count": 7,
   "id": "4872561e",
   "metadata": {
    "scrolled": true
   },
   "outputs": [
    {
     "data": {
      "text/plain": [
       "0.009804316242365451"
      ]
     },
     "execution_count": 7,
     "metadata": {},
     "output_type": "execute_result"
    }
   ],
   "source": [
    "euro_applications['citizen'].isin(['UNK']).sum()/len(euro_applications['citizen'])"
   ]
  },
  {
   "cell_type": "code",
   "execution_count": 8,
   "id": "4af54f1c",
   "metadata": {
    "scrolled": true
   },
   "outputs": [
    {
     "data": {
      "text/html": [
       "<div>\n",
       "<style scoped>\n",
       "    .dataframe tbody tr th:only-of-type {\n",
       "        vertical-align: middle;\n",
       "    }\n",
       "\n",
       "    .dataframe tbody tr th {\n",
       "        vertical-align: top;\n",
       "    }\n",
       "\n",
       "    .dataframe thead th {\n",
       "        text-align: right;\n",
       "    }\n",
       "</style>\n",
       "<table border=\"1\" class=\"dataframe\">\n",
       "  <thead>\n",
       "    <tr style=\"text-align: right;\">\n",
       "      <th></th>\n",
       "      <th>citizen</th>\n",
       "      <th>sex</th>\n",
       "      <th>age</th>\n",
       "      <th>asyl_app</th>\n",
       "      <th>geo</th>\n",
       "      <th>time_period</th>\n",
       "      <th>obs_value</th>\n",
       "    </tr>\n",
       "  </thead>\n",
       "  <tbody>\n",
       "    <tr>\n",
       "      <th>857</th>\n",
       "      <td>AD</td>\n",
       "      <td>F</td>\n",
       "      <td>UNK</td>\n",
       "      <td>ASY_APP</td>\n",
       "      <td>AT</td>\n",
       "      <td>2008</td>\n",
       "      <td>0.0</td>\n",
       "    </tr>\n",
       "    <tr>\n",
       "      <th>858</th>\n",
       "      <td>AD</td>\n",
       "      <td>F</td>\n",
       "      <td>UNK</td>\n",
       "      <td>ASY_APP</td>\n",
       "      <td>AT</td>\n",
       "      <td>2009</td>\n",
       "      <td>0.0</td>\n",
       "    </tr>\n",
       "    <tr>\n",
       "      <th>859</th>\n",
       "      <td>AD</td>\n",
       "      <td>F</td>\n",
       "      <td>UNK</td>\n",
       "      <td>ASY_APP</td>\n",
       "      <td>AT</td>\n",
       "      <td>2010</td>\n",
       "      <td>0.0</td>\n",
       "    </tr>\n",
       "    <tr>\n",
       "      <th>860</th>\n",
       "      <td>AD</td>\n",
       "      <td>F</td>\n",
       "      <td>UNK</td>\n",
       "      <td>ASY_APP</td>\n",
       "      <td>AT</td>\n",
       "      <td>2011</td>\n",
       "      <td>0.0</td>\n",
       "    </tr>\n",
       "    <tr>\n",
       "      <th>861</th>\n",
       "      <td>AD</td>\n",
       "      <td>F</td>\n",
       "      <td>UNK</td>\n",
       "      <td>ASY_APP</td>\n",
       "      <td>AT</td>\n",
       "      <td>2012</td>\n",
       "      <td>0.0</td>\n",
       "    </tr>\n",
       "  </tbody>\n",
       "</table>\n",
       "</div>"
      ],
      "text/plain": [
       "    citizen sex  age asyl_app geo  time_period  obs_value\n",
       "857      AD   F  UNK  ASY_APP  AT         2008        0.0\n",
       "858      AD   F  UNK  ASY_APP  AT         2009        0.0\n",
       "859      AD   F  UNK  ASY_APP  AT         2010        0.0\n",
       "860      AD   F  UNK  ASY_APP  AT         2011        0.0\n",
       "861      AD   F  UNK  ASY_APP  AT         2012        0.0"
      ]
     },
     "execution_count": 8,
     "metadata": {},
     "output_type": "execute_result"
    }
   ],
   "source": [
    "euro_applications.head()"
   ]
  },
  {
   "cell_type": "markdown",
   "id": "3a420c63",
   "metadata": {},
   "source": [
    "### 2.2. Asylum applicants by citzenship, age, sex - Monthly data - Nov-2019-Mar-2022"
   ]
  },
  {
   "cell_type": "code",
   "execution_count": 28,
   "id": "bf4ec778",
   "metadata": {},
   "outputs": [],
   "source": [
    "euro_mon_app = pd.read_csv('data/Eurostat/migr_asyappctzm_forhypo2_linear.csv')\n",
    "euro_mon_app.columns = list(map(lambda x: x.lower().replace(' ', '_'), euro_mon_app.columns))"
   ]
  },
  {
   "cell_type": "code",
   "execution_count": 23,
   "id": "40f6fd18",
   "metadata": {},
   "outputs": [],
   "source": [
    "euro_mon_app['time_period'] = pd.to_datetime(euro_mon_app['time_period'], errors = \"coerce\")\n",
    "euro_mon_app['time_period'] = euro_mon_app['time_period'][0].strftime(format='%m/%Y')"
   ]
  },
  {
   "cell_type": "code",
   "execution_count": 24,
   "id": "281328ed",
   "metadata": {},
   "outputs": [],
   "source": [
    "euro_mon_app = euro_mon_app.drop(['dataflow', 'last_update', 'freq', 'obs_flag','unit'], axis=1)\n",
    "#Frequency is annual;\n",
    "#Unit is per person only;\n",
    "# Flag footnote d = definition differs, see metadata "
   ]
  },
  {
   "cell_type": "code",
   "execution_count": 25,
   "id": "fe3fe3d9",
   "metadata": {},
   "outputs": [],
   "source": [
    "euro_mon_app = euro_mon_app[~euro_mon_app['citizen'].isin(['EXT_EU27_2020','EXT_EU28','TOTAL'])]"
   ]
  },
  {
   "cell_type": "code",
   "execution_count": 26,
   "id": "31603465",
   "metadata": {},
   "outputs": [
    {
     "ename": "ValueError",
     "evalue": "Length of values (0) does not match length of index (7)",
     "output_type": "error",
     "traceback": [
      "\u001b[1;31m---------------------------------------------------------------------------\u001b[0m",
      "\u001b[1;31mValueError\u001b[0m                                Traceback (most recent call last)",
      "\u001b[1;32m~\\AppData\\Local\\Temp/ipykernel_13540/21654893.py\u001b[0m in \u001b[0;36m<module>\u001b[1;34m\u001b[0m\n\u001b[1;32m----> 1\u001b[1;33m \u001b[0meuro_mon_app\u001b[0m\u001b[1;33m.\u001b[0m\u001b[0mapply\u001b[0m\u001b[1;33m(\u001b[0m\u001b[0mpd\u001b[0m\u001b[1;33m.\u001b[0m\u001b[0mSeries\u001b[0m\u001b[1;33m.\u001b[0m\u001b[0munique\u001b[0m\u001b[1;33m)\u001b[0m\u001b[1;33m\u001b[0m\u001b[1;33m\u001b[0m\u001b[0m\n\u001b[0m",
      "\u001b[1;32m~\\anaconda3\\lib\\site-packages\\pandas\\core\\frame.py\u001b[0m in \u001b[0;36mapply\u001b[1;34m(self, func, axis, raw, result_type, args, **kwargs)\u001b[0m\n\u001b[0;32m   8738\u001b[0m             \u001b[0mkwargs\u001b[0m\u001b[1;33m=\u001b[0m\u001b[0mkwargs\u001b[0m\u001b[1;33m,\u001b[0m\u001b[1;33m\u001b[0m\u001b[1;33m\u001b[0m\u001b[0m\n\u001b[0;32m   8739\u001b[0m         )\n\u001b[1;32m-> 8740\u001b[1;33m         \u001b[1;32mreturn\u001b[0m \u001b[0mop\u001b[0m\u001b[1;33m.\u001b[0m\u001b[0mapply\u001b[0m\u001b[1;33m(\u001b[0m\u001b[1;33m)\u001b[0m\u001b[1;33m\u001b[0m\u001b[1;33m\u001b[0m\u001b[0m\n\u001b[0m\u001b[0;32m   8741\u001b[0m \u001b[1;33m\u001b[0m\u001b[0m\n\u001b[0;32m   8742\u001b[0m     def applymap(\n",
      "\u001b[1;32m~\\anaconda3\\lib\\site-packages\\pandas\\core\\apply.py\u001b[0m in \u001b[0;36mapply\u001b[1;34m(self)\u001b[0m\n\u001b[0;32m    680\u001b[0m         \u001b[1;31m# one axis empty\u001b[0m\u001b[1;33m\u001b[0m\u001b[1;33m\u001b[0m\u001b[0m\n\u001b[0;32m    681\u001b[0m         \u001b[1;32melif\u001b[0m \u001b[1;32mnot\u001b[0m \u001b[0mall\u001b[0m\u001b[1;33m(\u001b[0m\u001b[0mself\u001b[0m\u001b[1;33m.\u001b[0m\u001b[0mobj\u001b[0m\u001b[1;33m.\u001b[0m\u001b[0mshape\u001b[0m\u001b[1;33m)\u001b[0m\u001b[1;33m:\u001b[0m\u001b[1;33m\u001b[0m\u001b[1;33m\u001b[0m\u001b[0m\n\u001b[1;32m--> 682\u001b[1;33m             \u001b[1;32mreturn\u001b[0m \u001b[0mself\u001b[0m\u001b[1;33m.\u001b[0m\u001b[0mapply_empty_result\u001b[0m\u001b[1;33m(\u001b[0m\u001b[1;33m)\u001b[0m\u001b[1;33m\u001b[0m\u001b[1;33m\u001b[0m\u001b[0m\n\u001b[0m\u001b[0;32m    683\u001b[0m \u001b[1;33m\u001b[0m\u001b[0m\n\u001b[0;32m    684\u001b[0m         \u001b[1;31m# raw\u001b[0m\u001b[1;33m\u001b[0m\u001b[1;33m\u001b[0m\u001b[0m\n",
      "\u001b[1;32m~\\anaconda3\\lib\\site-packages\\pandas\\core\\apply.py\u001b[0m in \u001b[0;36mapply_empty_result\u001b[1;34m(self)\u001b[0m\n\u001b[0;32m    750\u001b[0m                 \u001b[0mr\u001b[0m \u001b[1;33m=\u001b[0m \u001b[0mnp\u001b[0m\u001b[1;33m.\u001b[0m\u001b[0mnan\u001b[0m\u001b[1;33m\u001b[0m\u001b[1;33m\u001b[0m\u001b[0m\n\u001b[0;32m    751\u001b[0m \u001b[1;33m\u001b[0m\u001b[0m\n\u001b[1;32m--> 752\u001b[1;33m             \u001b[1;32mreturn\u001b[0m \u001b[0mself\u001b[0m\u001b[1;33m.\u001b[0m\u001b[0mobj\u001b[0m\u001b[1;33m.\u001b[0m\u001b[0m_constructor_sliced\u001b[0m\u001b[1;33m(\u001b[0m\u001b[0mr\u001b[0m\u001b[1;33m,\u001b[0m \u001b[0mindex\u001b[0m\u001b[1;33m=\u001b[0m\u001b[0mself\u001b[0m\u001b[1;33m.\u001b[0m\u001b[0magg_axis\u001b[0m\u001b[1;33m)\u001b[0m\u001b[1;33m\u001b[0m\u001b[1;33m\u001b[0m\u001b[0m\n\u001b[0m\u001b[0;32m    753\u001b[0m         \u001b[1;32melse\u001b[0m\u001b[1;33m:\u001b[0m\u001b[1;33m\u001b[0m\u001b[1;33m\u001b[0m\u001b[0m\n\u001b[0;32m    754\u001b[0m             \u001b[1;32mreturn\u001b[0m \u001b[0mself\u001b[0m\u001b[1;33m.\u001b[0m\u001b[0mobj\u001b[0m\u001b[1;33m.\u001b[0m\u001b[0mcopy\u001b[0m\u001b[1;33m(\u001b[0m\u001b[1;33m)\u001b[0m\u001b[1;33m\u001b[0m\u001b[1;33m\u001b[0m\u001b[0m\n",
      "\u001b[1;32m~\\anaconda3\\lib\\site-packages\\pandas\\core\\series.py\u001b[0m in \u001b[0;36m__init__\u001b[1;34m(self, data, index, dtype, name, copy, fastpath)\u001b[0m\n\u001b[0;32m    428\u001b[0m                 \u001b[0mindex\u001b[0m \u001b[1;33m=\u001b[0m \u001b[0mibase\u001b[0m\u001b[1;33m.\u001b[0m\u001b[0mdefault_index\u001b[0m\u001b[1;33m(\u001b[0m\u001b[0mlen\u001b[0m\u001b[1;33m(\u001b[0m\u001b[0mdata\u001b[0m\u001b[1;33m)\u001b[0m\u001b[1;33m)\u001b[0m\u001b[1;33m\u001b[0m\u001b[1;33m\u001b[0m\u001b[0m\n\u001b[0;32m    429\u001b[0m             \u001b[1;32melif\u001b[0m \u001b[0mis_list_like\u001b[0m\u001b[1;33m(\u001b[0m\u001b[0mdata\u001b[0m\u001b[1;33m)\u001b[0m\u001b[1;33m:\u001b[0m\u001b[1;33m\u001b[0m\u001b[1;33m\u001b[0m\u001b[0m\n\u001b[1;32m--> 430\u001b[1;33m                 \u001b[0mcom\u001b[0m\u001b[1;33m.\u001b[0m\u001b[0mrequire_length_match\u001b[0m\u001b[1;33m(\u001b[0m\u001b[0mdata\u001b[0m\u001b[1;33m,\u001b[0m \u001b[0mindex\u001b[0m\u001b[1;33m)\u001b[0m\u001b[1;33m\u001b[0m\u001b[1;33m\u001b[0m\u001b[0m\n\u001b[0m\u001b[0;32m    431\u001b[0m \u001b[1;33m\u001b[0m\u001b[0m\n\u001b[0;32m    432\u001b[0m             \u001b[1;31m# create/copy the manager\u001b[0m\u001b[1;33m\u001b[0m\u001b[1;33m\u001b[0m\u001b[0m\n",
      "\u001b[1;32m~\\anaconda3\\lib\\site-packages\\pandas\\core\\common.py\u001b[0m in \u001b[0;36mrequire_length_match\u001b[1;34m(data, index)\u001b[0m\n\u001b[0;32m    529\u001b[0m     \"\"\"\n\u001b[0;32m    530\u001b[0m     \u001b[1;32mif\u001b[0m \u001b[0mlen\u001b[0m\u001b[1;33m(\u001b[0m\u001b[0mdata\u001b[0m\u001b[1;33m)\u001b[0m \u001b[1;33m!=\u001b[0m \u001b[0mlen\u001b[0m\u001b[1;33m(\u001b[0m\u001b[0mindex\u001b[0m\u001b[1;33m)\u001b[0m\u001b[1;33m:\u001b[0m\u001b[1;33m\u001b[0m\u001b[1;33m\u001b[0m\u001b[0m\n\u001b[1;32m--> 531\u001b[1;33m         raise ValueError(\n\u001b[0m\u001b[0;32m    532\u001b[0m             \u001b[1;34m\"Length of values \"\u001b[0m\u001b[1;33m\u001b[0m\u001b[1;33m\u001b[0m\u001b[0m\n\u001b[0;32m    533\u001b[0m             \u001b[1;34mf\"({len(data)}) \"\u001b[0m\u001b[1;33m\u001b[0m\u001b[1;33m\u001b[0m\u001b[0m\n",
      "\u001b[1;31mValueError\u001b[0m: Length of values (0) does not match length of index (7)"
     ]
    }
   ],
   "source": [
    "euro_mon_app.apply(pd.Series.unique)"
   ]
  },
  {
   "cell_type": "code",
   "execution_count": 27,
   "id": "135278bd",
   "metadata": {
    "scrolled": false
   },
   "outputs": [
    {
     "data": {
      "text/html": [
       "<div>\n",
       "<style scoped>\n",
       "    .dataframe tbody tr th:only-of-type {\n",
       "        vertical-align: middle;\n",
       "    }\n",
       "\n",
       "    .dataframe tbody tr th {\n",
       "        vertical-align: top;\n",
       "    }\n",
       "\n",
       "    .dataframe thead th {\n",
       "        text-align: right;\n",
       "    }\n",
       "</style>\n",
       "<table border=\"1\" class=\"dataframe\">\n",
       "  <thead>\n",
       "    <tr style=\"text-align: right;\">\n",
       "      <th></th>\n",
       "      <th>citizen</th>\n",
       "      <th>sex</th>\n",
       "      <th>age</th>\n",
       "      <th>asyl_app</th>\n",
       "      <th>geo</th>\n",
       "      <th>time_period</th>\n",
       "      <th>obs_value</th>\n",
       "    </tr>\n",
       "  </thead>\n",
       "  <tbody>\n",
       "  </tbody>\n",
       "</table>\n",
       "</div>"
      ],
      "text/plain": [
       "Empty DataFrame\n",
       "Columns: [citizen, sex, age, asyl_app, geo, time_period, obs_value]\n",
       "Index: []"
      ]
     },
     "execution_count": 27,
     "metadata": {},
     "output_type": "execute_result"
    }
   ],
   "source": [
    "euro_mon_app.head()"
   ]
  },
  {
   "cell_type": "markdown",
   "id": "7987b014",
   "metadata": {},
   "source": [
    "### 2.3. Asylum applicants by citzenship, age, sex - Monthly data - 2018-2021"
   ]
  },
  {
   "cell_type": "code",
   "execution_count": 1,
   "id": "19b97bbb",
   "metadata": {},
   "outputs": [
    {
     "ename": "NameError",
     "evalue": "name 'pd' is not defined",
     "output_type": "error",
     "traceback": [
      "\u001b[1;31m---------------------------------------------------------------------------\u001b[0m",
      "\u001b[1;31mNameError\u001b[0m                                 Traceback (most recent call last)",
      "\u001b[1;32m~\\AppData\\Local\\Temp/ipykernel_13624/2426273701.py\u001b[0m in \u001b[0;36m<module>\u001b[1;34m\u001b[0m\n\u001b[1;32m----> 1\u001b[1;33m \u001b[0meuro_mon_app\u001b[0m \u001b[1;33m=\u001b[0m \u001b[0mpd\u001b[0m\u001b[1;33m.\u001b[0m\u001b[0mread_csv\u001b[0m\u001b[1;33m(\u001b[0m\u001b[1;34m'data/Eurostat/migr_asyappctzm_linear.csv'\u001b[0m\u001b[1;33m)\u001b[0m\u001b[1;33m\u001b[0m\u001b[1;33m\u001b[0m\u001b[0m\n\u001b[0m\u001b[0;32m      2\u001b[0m \u001b[0meuro_mon_app\u001b[0m\u001b[1;33m.\u001b[0m\u001b[0mcolumns\u001b[0m \u001b[1;33m=\u001b[0m \u001b[0mlist\u001b[0m\u001b[1;33m(\u001b[0m\u001b[0mmap\u001b[0m\u001b[1;33m(\u001b[0m\u001b[1;32mlambda\u001b[0m \u001b[0mx\u001b[0m\u001b[1;33m:\u001b[0m \u001b[0mx\u001b[0m\u001b[1;33m.\u001b[0m\u001b[0mlower\u001b[0m\u001b[1;33m(\u001b[0m\u001b[1;33m)\u001b[0m\u001b[1;33m.\u001b[0m\u001b[0mreplace\u001b[0m\u001b[1;33m(\u001b[0m\u001b[1;34m' '\u001b[0m\u001b[1;33m,\u001b[0m \u001b[1;34m'_'\u001b[0m\u001b[1;33m)\u001b[0m\u001b[1;33m,\u001b[0m \u001b[0meuro_mon_app\u001b[0m\u001b[1;33m.\u001b[0m\u001b[0mcolumns\u001b[0m\u001b[1;33m)\u001b[0m\u001b[1;33m)\u001b[0m\u001b[1;33m\u001b[0m\u001b[1;33m\u001b[0m\u001b[0m\n",
      "\u001b[1;31mNameError\u001b[0m: name 'pd' is not defined"
     ]
    }
   ],
   "source": [
    "euro_mon_app = pd.read_csv('data/Eurostat/migr_asyappctzm_linear.csv')\n",
    "euro_mon_app.columns = list(map(lambda x: x.lower().replace(' ', '_'), euro_mon_app.columns))"
   ]
  },
  {
   "cell_type": "code",
   "execution_count": 31,
   "id": "0ff58dc1",
   "metadata": {},
   "outputs": [],
   "source": [
    "euro_mon_app['time_period'] = pd.to_datetime(euro_mon_app['time_period'], errors = \"coerce\")\n",
    "euro_mon_app['time_period'] = euro_mon_app['time_period'][0].strftime(format='%m/%Y')"
   ]
  },
  {
   "cell_type": "code",
   "execution_count": 32,
   "id": "11c2d94c",
   "metadata": {},
   "outputs": [],
   "source": [
    "euro_mon_app = euro_mon_app.drop(['dataflow', 'last_update', 'freq', 'obs_flag','unit'], axis=1)\n",
    "#Frequency is annual;\n",
    "#Unit is per person only;\n",
    "# Flag footnote d = definition differs, see metadata "
   ]
  },
  {
   "cell_type": "code",
   "execution_count": 33,
   "id": "ef18e857",
   "metadata": {},
   "outputs": [],
   "source": [
    "#euro_mon_app = euro_mon_app[~euro_mon_app['citizen'].isin(['EXT_EU27_2020','EXT_EU28','TOTAL'])]"
   ]
  },
  {
   "cell_type": "code",
   "execution_count": 35,
   "id": "31603465",
   "metadata": {},
   "outputs": [
    {
     "data": {
      "text/plain": [
       "citizen                                [EXT_EU27_2020, EXT_EU28]\n",
       "sex                                                  [F, M, UNK]\n",
       "age                                                      [TOTAL]\n",
       "asyl_app                                     [ASY_APP, NASY_APP]\n",
       "geo                                              [EU27_2020, UK]\n",
       "time_period                                            [01/2018]\n",
       "obs_value      [19785, 17175, 17645, 18175, 18685, 18285, 196...\n",
       "dtype: object"
      ]
     },
     "execution_count": 35,
     "metadata": {},
     "output_type": "execute_result"
    }
   ],
   "source": [
    "euro_mon_app.apply(pd.Series.unique)"
   ]
  },
  {
   "cell_type": "code",
   "execution_count": 37,
   "id": "135278bd",
   "metadata": {
    "scrolled": false
   },
   "outputs": [
    {
     "data": {
      "text/plain": [
       "01/2018    794\n",
       "Name: time_period, dtype: int64"
      ]
     },
     "execution_count": 37,
     "metadata": {},
     "output_type": "execute_result"
    }
   ],
   "source": [
    "euro_mon_app['time_period'].value_counts()"
   ]
  },
  {
   "cell_type": "markdown",
   "id": "45954c50",
   "metadata": {},
   "source": [
    "### 2.3. Asylum applicants by citzenship, age, sex - Monthly data - 2018-2021"
   ]
  },
  {
   "cell_type": "markdown",
   "id": "4ab955e4",
   "metadata": {},
   "source": [
    "### 2.4. First instance decisions on asylum applications"
   ]
  },
  {
   "cell_type": "code",
   "execution_count": 15,
   "id": "6d724a7f",
   "metadata": {},
   "outputs": [
    {
     "name": "stderr",
     "output_type": "stream",
     "text": [
      "C:\\Users\\franc\\anaconda3\\lib\\site-packages\\IPython\\core\\interactiveshell.py:3444: DtypeWarning: Columns (4) have mixed types.Specify dtype option on import or set low_memory=False.\n",
      "  exec(code_obj, self.user_global_ns, self.user_ns)\n"
     ]
    }
   ],
   "source": [
    "euro_decisions = pd.read_csv('data/Eurostat/migr_asydcfsta_linear.csv')\n",
    "euro_decisions.columns = list(map(lambda x: x.lower().replace(' ', '_'), euro_decisions.columns))"
   ]
  },
  {
   "cell_type": "code",
   "execution_count": 16,
   "id": "d0d7d7ab",
   "metadata": {},
   "outputs": [
    {
     "data": {
      "text/plain": [
       "(18547796, 12)"
      ]
     },
     "execution_count": 16,
     "metadata": {},
     "output_type": "execute_result"
    }
   ],
   "source": [
    "euro_decisions.shape"
   ]
  },
  {
   "cell_type": "code",
   "execution_count": 17,
   "id": "5610f4af",
   "metadata": {},
   "outputs": [],
   "source": [
    "euro_decisions = euro_decisions[~euro_decisions['citizen'].isin(['EXT_EU27_2020','EXT_EU28','TOTAL'])]"
   ]
  },
  {
   "cell_type": "code",
   "execution_count": 18,
   "id": "0a3e3101",
   "metadata": {},
   "outputs": [
    {
     "data": {
      "text/plain": [
       "TOTAL        2881284\n",
       "TOTAL_POS    2881284\n",
       "REJECTED     2730142\n",
       "GENCONV      2719340\n",
       "SUB_PROT     2697965\n",
       "TEMP_PROT    2344612\n",
       "HUMSTAT      2033195\n",
       "Name: decision, dtype: int64"
      ]
     },
     "execution_count": 18,
     "metadata": {},
     "output_type": "execute_result"
    }
   ],
   "source": [
    "euro_decisions['decision'].value_counts()"
   ]
  },
  {
   "cell_type": "code",
   "execution_count": 19,
   "id": "edcc15b2",
   "metadata": {},
   "outputs": [],
   "source": [
    "euro_decisions = euro_decisions.drop(['dataflow', 'last_update', 'freq', 'obs_flag', 'unit'], axis=1)\n",
    "#Frequency is annual;\n",
    "#Unit is per person only;\n",
    "# Flag footnote d = definition differs, see metadata \n",
    "euro_decisions = euro_decisions[~euro_decisions['age'].isin(['TOTAL'])]\n",
    "euro_decisions = euro_decisions[~euro_decisions['sex'].isin(['T'])]\n",
    "euro_decisions = euro_decisions[~euro_decisions['decision'].isin(['TOTAL_POS'])]"
   ]
  },
  {
   "cell_type": "code",
   "execution_count": 20,
   "id": "d17a7eb2",
   "metadata": {},
   "outputs": [
    {
     "data": {
      "text/plain": [
       "citizen        [AD, AE, AF, AG, AL, AM, AO, AR, AT, AU, AZ, B...\n",
       "sex                                                  [F, M, UNK]\n",
       "age            [UNK, Y14-17, Y18-34, Y35-64, Y_GE65, Y_LT14, ...\n",
       "decision       [GENCONV, HUMSTAT, REJECTED, SUB_PROT, TEMP_PR...\n",
       "geo            [AT, BE, BG, CH, CY, CZ, DE, DK, EE, EL, ES, E...\n",
       "time_period    [2008, 2009, 2010, 2011, 2012, 2013, 2014, 201...\n",
       "obs_value      [0.0, 5.0, 10.0, 15.0, 30.0, 25.0, 20.0, 40.0,...\n",
       "dtype: object"
      ]
     },
     "execution_count": 20,
     "metadata": {},
     "output_type": "execute_result"
    }
   ],
   "source": [
    "euro_decisions.apply(pd.Series.unique)"
   ]
  },
  {
   "cell_type": "code",
   "execution_count": 21,
   "id": "64225caa",
   "metadata": {},
   "outputs": [
    {
     "data": {
      "text/html": [
       "<div>\n",
       "<style scoped>\n",
       "    .dataframe tbody tr th:only-of-type {\n",
       "        vertical-align: middle;\n",
       "    }\n",
       "\n",
       "    .dataframe tbody tr th {\n",
       "        vertical-align: top;\n",
       "    }\n",
       "\n",
       "    .dataframe thead th {\n",
       "        text-align: right;\n",
       "    }\n",
       "</style>\n",
       "<table border=\"1\" class=\"dataframe\">\n",
       "  <thead>\n",
       "    <tr style=\"text-align: right;\">\n",
       "      <th></th>\n",
       "      <th>citizen</th>\n",
       "      <th>sex</th>\n",
       "      <th>age</th>\n",
       "      <th>decision</th>\n",
       "      <th>geo</th>\n",
       "      <th>time_period</th>\n",
       "      <th>obs_value</th>\n",
       "    </tr>\n",
       "  </thead>\n",
       "  <tbody>\n",
       "    <tr>\n",
       "      <th>2911</th>\n",
       "      <td>AD</td>\n",
       "      <td>F</td>\n",
       "      <td>UNK</td>\n",
       "      <td>GENCONV</td>\n",
       "      <td>AT</td>\n",
       "      <td>2008</td>\n",
       "      <td>0.0</td>\n",
       "    </tr>\n",
       "    <tr>\n",
       "      <th>2912</th>\n",
       "      <td>AD</td>\n",
       "      <td>F</td>\n",
       "      <td>UNK</td>\n",
       "      <td>GENCONV</td>\n",
       "      <td>AT</td>\n",
       "      <td>2009</td>\n",
       "      <td>0.0</td>\n",
       "    </tr>\n",
       "    <tr>\n",
       "      <th>2913</th>\n",
       "      <td>AD</td>\n",
       "      <td>F</td>\n",
       "      <td>UNK</td>\n",
       "      <td>GENCONV</td>\n",
       "      <td>AT</td>\n",
       "      <td>2010</td>\n",
       "      <td>0.0</td>\n",
       "    </tr>\n",
       "    <tr>\n",
       "      <th>2914</th>\n",
       "      <td>AD</td>\n",
       "      <td>F</td>\n",
       "      <td>UNK</td>\n",
       "      <td>GENCONV</td>\n",
       "      <td>AT</td>\n",
       "      <td>2011</td>\n",
       "      <td>0.0</td>\n",
       "    </tr>\n",
       "    <tr>\n",
       "      <th>2915</th>\n",
       "      <td>AD</td>\n",
       "      <td>F</td>\n",
       "      <td>UNK</td>\n",
       "      <td>GENCONV</td>\n",
       "      <td>AT</td>\n",
       "      <td>2012</td>\n",
       "      <td>0.0</td>\n",
       "    </tr>\n",
       "  </tbody>\n",
       "</table>\n",
       "</div>"
      ],
      "text/plain": [
       "     citizen sex  age decision geo  time_period  obs_value\n",
       "2911      AD   F  UNK  GENCONV  AT         2008        0.0\n",
       "2912      AD   F  UNK  GENCONV  AT         2009        0.0\n",
       "2913      AD   F  UNK  GENCONV  AT         2010        0.0\n",
       "2914      AD   F  UNK  GENCONV  AT         2011        0.0\n",
       "2915      AD   F  UNK  GENCONV  AT         2012        0.0"
      ]
     },
     "execution_count": 21,
     "metadata": {},
     "output_type": "execute_result"
    }
   ],
   "source": [
    "euro_decisions.head()"
   ]
  },
  {
   "cell_type": "markdown",
   "id": "a2fe5f05",
   "metadata": {},
   "source": [
    "## Creating .csv files"
   ]
  },
  {
   "cell_type": "code",
   "execution_count": 22,
   "id": "c061f087",
   "metadata": {},
   "outputs": [],
   "source": [
    "from pathlib import Path  \n",
    "#Eurostat annual applications\n",
    "filepath = Path('data/Cleaned/euro_app.csv')  \n",
    "filepath.parent.mkdir(parents=True, exist_ok=True)  \n",
    "euro_applications.to_csv(filepath) \n",
    "\n",
    "#Eurostat monthly applications Nov-2019-Mar-2022\n",
    "filepath = Path('data/Cleaned/euro_mon_app.csv')  \n",
    "filepath.parent.mkdir(parents=True, exist_ok=True)  \n",
    "euro_mon_app.to_csv(filepath) \n",
    "\n",
    "#Eurostat annual decisions\n",
    "filepath = Path('data/Cleaned/euro_dec.csv')  \n",
    "filepath.parent.mkdir(parents=True, exist_ok=True)  \n",
    "euro_decisions.to_csv(filepath) "
   ]
  },
  {
   "cell_type": "code",
   "execution_count": null,
   "id": "6b83c7bf",
   "metadata": {},
   "outputs": [],
   "source": []
  }
 ],
 "metadata": {
  "kernelspec": {
   "display_name": "Python 3 (ipykernel)",
   "language": "python",
   "name": "python3"
  },
  "language_info": {
   "codemirror_mode": {
    "name": "ipython",
    "version": 3
   },
   "file_extension": ".py",
   "mimetype": "text/x-python",
   "name": "python",
   "nbconvert_exporter": "python",
   "pygments_lexer": "ipython3",
   "version": "3.9.7"
  }
 },
 "nbformat": 4,
 "nbformat_minor": 5
}
