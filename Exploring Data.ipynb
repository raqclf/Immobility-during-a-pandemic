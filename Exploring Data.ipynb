{
 "cells": [
  {
   "cell_type": "code",
   "execution_count": 30,
   "id": "91ecb448",
   "metadata": {},
   "outputs": [],
   "source": [
    "#Import libraries\n",
    "import pandas as pd\n",
    "import numpy as np\n",
    "import math\n",
    "import statistics as stats\n",
    "import sys\n",
    "import seaborn as sns\n",
    "import matplotlib.pyplot as plt\n",
    "%matplotlib inline "
   ]
  },
  {
   "cell_type": "markdown",
   "id": "e1366413",
   "metadata": {},
   "source": [
    "## 2. Cleaning Eurostat application and decision dataframes\n",
    " #### A few differences from UNHCR data\n",
    " - Annual data since 2008;\n",
    " - There is aggregated data per EU27, EU28 and extra communitarian countries; \n",
    " - Greater number of considered countries, such as the Vatican, and they use iso code 2;\n",
    " - There is monthly data available, important to compare with Covid-19 cases;\n",
    " - There is only data per person, not per case;\n",
    " - Includes information on gender and age;\n",
    " - Asylum application types includes asylum (person depositing an applications), first application (in a different Member State) and subsequent claims."
   ]
  },
  {
   "cell_type": "markdown",
   "id": "dec5c312",
   "metadata": {},
   "source": [
    "### 2.1. Asylum applicants by type of application, citzenship, age, sex - Annual data"
   ]
  },
  {
   "cell_type": "code",
   "execution_count": 31,
   "id": "3c8b7ad8",
   "metadata": {},
   "outputs": [],
   "source": [
    "euro_applications = pd.read_csv('data/Eurostat/migr_asyappctza_linear.csv')\n",
    "euro_applications.columns = list(map(lambda x: x.lower().replace(' ', '_'), euro_applications.columns))"
   ]
  },
  {
   "cell_type": "code",
   "execution_count": 32,
   "id": "76cbd87b",
   "metadata": {
    "scrolled": false
   },
   "outputs": [
    {
     "data": {
      "text/plain": [
       "Index(['dataflow', 'last_update', 'freq', 'citizen', 'sex', 'unit', 'age',\n",
       "       'asyl_app', 'geo', 'time_period', 'obs_value', 'obs_flag'],\n",
       "      dtype='object')"
      ]
     },
     "execution_count": 32,
     "metadata": {},
     "output_type": "execute_result"
    }
   ],
   "source": [
    "euro_applications.columns"
   ]
  },
  {
   "cell_type": "code",
   "execution_count": 33,
   "id": "df33c3a3",
   "metadata": {
    "scrolled": true
   },
   "outputs": [
    {
     "data": {
      "text/plain": [
       "dataflow                            [ESTAT:MIGR_ASYAPPCTZA(1.0)]\n",
       "last_update                                  [07/04/22 11:00:00]\n",
       "freq                                                         [A]\n",
       "citizen        [AD, AE, AF, AG, AL, AM, AO, AR, AT, AU, AZ, B...\n",
       "sex                                               [F, M, T, UNK]\n",
       "unit                                                       [PER]\n",
       "age            [TOTAL, UNK, Y14-17, Y18-34, Y35-64, Y_GE65, Y...\n",
       "asyl_app                               [ASY_APP, NASY_APP, SSEQ]\n",
       "geo            [AT, BE, BG, CH, CY, CZ, DE, DK, EE, EL, ES, E...\n",
       "time_period    [2008, 2009, 2010, 2011, 2012, 2013, 2014, 201...\n",
       "obs_value      [0.0, 5.0, 10.0, 15.0, 25.0, 20.0, 410.0, 480....\n",
       "obs_flag                                             [nan, d, p]\n",
       "dtype: object"
      ]
     },
     "execution_count": 33,
     "metadata": {},
     "output_type": "execute_result"
    }
   ],
   "source": [
    "euro_applications.apply(pd.Series.unique)"
   ]
  },
  {
   "cell_type": "code",
   "execution_count": 34,
   "id": "2eac240f",
   "metadata": {},
   "outputs": [],
   "source": [
    "euro_applications = euro_applications.drop(['dataflow', 'last_update', 'freq', 'obs_flag','unit'], axis=1)\n",
    "#Frequency is annual;\n",
    "#Unit is per person only;\n",
    "#Flag footnote\n",
    "#Drop Total from age\n",
    "euro_applications = euro_applications[~euro_applications['age'].isin(['TOTAL'])]\n",
    "euro_applications = euro_applications[~euro_applications['sex'].isin(['T'])]\n",
    "#Only need new applications\n",
    "euro_applications = euro_applications[~euro_applications['asyl_app'].isin(['SSEQ','NASY_APP'])]"
   ]
  },
  {
   "cell_type": "code",
   "execution_count": 35,
   "id": "05386bb5",
   "metadata": {
    "scrolled": true
   },
   "outputs": [],
   "source": [
    "euro_applications['citizen'].isna().sum()/len(euro_applications['citizen'])\n",
    "#Very small number of Nans, so we will be placing then together with UNK\"\n",
    "euro_applications['citizen'] = euro_applications['citizen'].fillna('UNK')\n",
    "euro_applications = euro_applications[~euro_applications['citizen'].isin(['EXT_EU27_2020','EXT_EU28','TOTAL'])]"
   ]
  },
  {
   "cell_type": "code",
   "execution_count": 36,
   "id": "62415105",
   "metadata": {
    "scrolled": true
   },
   "outputs": [
    {
     "data": {
      "text/plain": [
       "0.0097984363369222"
      ]
     },
     "execution_count": 36,
     "metadata": {},
     "output_type": "execute_result"
    }
   ],
   "source": [
    "euro_applications['citizen'].isin(['UNK']).sum()/len(euro_applications['citizen'])"
   ]
  },
  {
   "cell_type": "code",
   "execution_count": 37,
   "id": "69dfd790",
   "metadata": {
    "scrolled": true
   },
   "outputs": [
    {
     "data": {
      "text/html": [
       "<div>\n",
       "<style scoped>\n",
       "    .dataframe tbody tr th:only-of-type {\n",
       "        vertical-align: middle;\n",
       "    }\n",
       "\n",
       "    .dataframe tbody tr th {\n",
       "        vertical-align: top;\n",
       "    }\n",
       "\n",
       "    .dataframe thead th {\n",
       "        text-align: right;\n",
       "    }\n",
       "</style>\n",
       "<table border=\"1\" class=\"dataframe\">\n",
       "  <thead>\n",
       "    <tr style=\"text-align: right;\">\n",
       "      <th></th>\n",
       "      <th>citizen</th>\n",
       "      <th>sex</th>\n",
       "      <th>age</th>\n",
       "      <th>asyl_app</th>\n",
       "      <th>geo</th>\n",
       "      <th>time_period</th>\n",
       "      <th>obs_value</th>\n",
       "    </tr>\n",
       "  </thead>\n",
       "  <tbody>\n",
       "    <tr>\n",
       "      <th>857</th>\n",
       "      <td>AD</td>\n",
       "      <td>F</td>\n",
       "      <td>UNK</td>\n",
       "      <td>ASY_APP</td>\n",
       "      <td>AT</td>\n",
       "      <td>2008</td>\n",
       "      <td>0.0</td>\n",
       "    </tr>\n",
       "    <tr>\n",
       "      <th>858</th>\n",
       "      <td>AD</td>\n",
       "      <td>F</td>\n",
       "      <td>UNK</td>\n",
       "      <td>ASY_APP</td>\n",
       "      <td>AT</td>\n",
       "      <td>2009</td>\n",
       "      <td>0.0</td>\n",
       "    </tr>\n",
       "    <tr>\n",
       "      <th>859</th>\n",
       "      <td>AD</td>\n",
       "      <td>F</td>\n",
       "      <td>UNK</td>\n",
       "      <td>ASY_APP</td>\n",
       "      <td>AT</td>\n",
       "      <td>2010</td>\n",
       "      <td>0.0</td>\n",
       "    </tr>\n",
       "    <tr>\n",
       "      <th>860</th>\n",
       "      <td>AD</td>\n",
       "      <td>F</td>\n",
       "      <td>UNK</td>\n",
       "      <td>ASY_APP</td>\n",
       "      <td>AT</td>\n",
       "      <td>2011</td>\n",
       "      <td>0.0</td>\n",
       "    </tr>\n",
       "    <tr>\n",
       "      <th>861</th>\n",
       "      <td>AD</td>\n",
       "      <td>F</td>\n",
       "      <td>UNK</td>\n",
       "      <td>ASY_APP</td>\n",
       "      <td>AT</td>\n",
       "      <td>2012</td>\n",
       "      <td>0.0</td>\n",
       "    </tr>\n",
       "  </tbody>\n",
       "</table>\n",
       "</div>"
      ],
      "text/plain": [
       "    citizen sex  age asyl_app geo  time_period  obs_value\n",
       "857      AD   F  UNK  ASY_APP  AT         2008        0.0\n",
       "858      AD   F  UNK  ASY_APP  AT         2009        0.0\n",
       "859      AD   F  UNK  ASY_APP  AT         2010        0.0\n",
       "860      AD   F  UNK  ASY_APP  AT         2011        0.0\n",
       "861      AD   F  UNK  ASY_APP  AT         2012        0.0"
      ]
     },
     "execution_count": 37,
     "metadata": {},
     "output_type": "execute_result"
    }
   ],
   "source": [
    "euro_applications.head()"
   ]
  },
  {
   "cell_type": "markdown",
   "id": "505c86e7",
   "metadata": {},
   "source": [
    "### 2.2. Asylum applicants by citzenship, age, sex - Monthly data - Nov-2019-Mar-2022"
   ]
  },
  {
   "cell_type": "markdown",
   "id": "44ce1e74",
   "metadata": {},
   "source": [
    "euro_mon_app = pd.read_csv('data/Eurostat/migr_asyappctzm_forhypo2_linear.csv')\n",
    "euro_mon_app.columns = list(map(lambda x: x.lower().replace(' ', '_'), euro_mon_app.columns))"
   ]
  },
  {
   "cell_type": "markdown",
   "id": "998ef03f",
   "metadata": {},
   "source": [
    "euro_mon_app['time_period'] = pd.to_datetime(euro_mon_app['time_period'], errors = \"coerce\")\n",
    "euro_mon_app['time_period'] = euro_mon_app['time_period'][0].strftime(format='%m/%Y')"
   ]
  },
  {
   "cell_type": "markdown",
   "id": "017ce880",
   "metadata": {},
   "source": [
    "euro_mon_app = euro_mon_app.drop(['dataflow', 'last_update', 'freq', 'obs_flag','unit'], axis=1)\n",
    "#Unit is per person only;\n",
    " Flag footnote d = definition differs, see metadata "
   ]
  },
  {
   "cell_type": "markdown",
   "id": "cf97dc84",
   "metadata": {},
   "source": [
    "euro_mon_app = euro_mon_app[~euro_mon_app['citizen'].isin(['EXT_EU27_2020','EXT_EU28','TOTAL'])]"
   ]
  },
  {
   "cell_type": "markdown",
   "id": "03693f19",
   "metadata": {},
   "source": [
    "euro_mon_app.apply(pd.Series.unique)"
   ]
  },
  {
   "cell_type": "markdown",
   "id": "c9468acd",
   "metadata": {
    "scrolled": false
   },
   "source": [
    "euro_mon_app.head()"
   ]
  },
  {
   "cell_type": "markdown",
   "id": "947f62ac",
   "metadata": {},
   "source": [
    "euro_mon_app['time_period'].value_counts()"
   ]
  },
  {
   "cell_type": "markdown",
   "id": "f58c94b5",
   "metadata": {},
   "source": [
    "### 2.3. Asylum applicants by citzenship, age, sex - Monthly data - 2018-2021"
   ]
  },
  {
   "cell_type": "code",
   "execution_count": 38,
   "id": "05ee653f",
   "metadata": {},
   "outputs": [],
   "source": [
    "euro_mon_app2 = pd.read_csv('data/Eurostat/migr_asyappctzm__custom_2596801_linear.csv')\n",
    "euro_mon_app2.columns = list(map(lambda x: x.lower().replace(' ', '_'), euro_mon_app2.columns))"
   ]
  },
  {
   "cell_type": "code",
   "execution_count": 39,
   "id": "93622dc9",
   "metadata": {},
   "outputs": [],
   "source": [
    "#euro_mon_app['year'] = euro_mon_app2['time_period'][0].strftime(format='%Y').dt.year\n",
    "#euro_mon_app2 = euro_mon_app2[euro_mon_app2['year'].isin([2018,2019,2020,2021])]"
   ]
  },
  {
   "cell_type": "code",
   "execution_count": null,
   "id": "0131a719",
   "metadata": {},
   "outputs": [],
   "source": []
  },
  {
   "cell_type": "code",
   "execution_count": 40,
   "id": "cd09925f",
   "metadata": {},
   "outputs": [],
   "source": [
    "#euro_mon_app2['time_period'] = pd.to_datetime(euro_mon_app2['time_period'], errors = \"coerce\")\n",
    "#euro_mon_app2['time_period'] = euro_mon_app2['time_period'].strftime(format='%m/%Y')"
   ]
  },
  {
   "cell_type": "code",
   "execution_count": 41,
   "id": "fae748b9",
   "metadata": {},
   "outputs": [],
   "source": [
    "euro_mon_app2 = euro_mon_app2.drop(['dataflow', 'last_update', 'freq', 'obs_flag','unit'], axis=1)\n",
    "#Unit is per person only;\n",
    "# Flag footnote d = definition differs, see metadata "
   ]
  },
  {
   "cell_type": "code",
   "execution_count": 42,
   "id": "1793c824",
   "metadata": {},
   "outputs": [],
   "source": [
    "#euro_mon_app = euro_mon_app[~euro_mon_app['citizen'].isin(['EXT_EU27_2020','EXT_EU28','TOTAL'])]"
   ]
  },
  {
   "cell_type": "code",
   "execution_count": 43,
   "id": "18c24e08",
   "metadata": {},
   "outputs": [
    {
     "data": {
      "text/plain": [
       "citizen                                [EXT_EU27_2020, EXT_EU28]\n",
       "sex                                                          [T]\n",
       "age                                                      [TOTAL]\n",
       "asyl_app                                     [ASY_APP, NASY_APP]\n",
       "geo                                              [EU27_2020, UK]\n",
       "time_period    [2018-01, 2018-02, 2018-03, 2018-04, 2018-05, ...\n",
       "obs_value      [56665, 48855, 49990, 50580, 52030, 50605, 541...\n",
       "dtype: object"
      ]
     },
     "execution_count": 43,
     "metadata": {},
     "output_type": "execute_result"
    }
   ],
   "source": [
    "euro_mon_app2.apply(pd.Series.unique)"
   ]
  },
  {
   "cell_type": "code",
   "execution_count": 44,
   "id": "0871e303",
   "metadata": {},
   "outputs": [],
   "source": [
    "euro_mon_app2 = euro_mon_app2[~euro_mon_app2['asyl_app'].isin(['NASY_APP'])]"
   ]
  },
  {
   "cell_type": "markdown",
   "id": "65d505b2",
   "metadata": {},
   "source": [
    "### 2.4. First instance decisions on asylum applications"
   ]
  },
  {
   "cell_type": "code",
   "execution_count": 45,
   "id": "848bdf0d",
   "metadata": {},
   "outputs": [
    {
     "name": "stderr",
     "output_type": "stream",
     "text": [
      "C:\\Users\\franc\\anaconda3\\lib\\site-packages\\IPython\\core\\interactiveshell.py:3444: DtypeWarning: Columns (4) have mixed types.Specify dtype option on import or set low_memory=False.\n",
      "  exec(code_obj, self.user_global_ns, self.user_ns)\n"
     ]
    }
   ],
   "source": [
    "euro_decisions = pd.read_csv('data/Eurostat/migr_asydcfsta_linear.csv')\n",
    "euro_decisions.columns = list(map(lambda x: x.lower().replace(' ', '_'), euro_decisions.columns))"
   ]
  },
  {
   "cell_type": "code",
   "execution_count": 46,
   "id": "808d3793",
   "metadata": {},
   "outputs": [
    {
     "data": {
      "text/plain": [
       "(18547796, 12)"
      ]
     },
     "execution_count": 46,
     "metadata": {},
     "output_type": "execute_result"
    }
   ],
   "source": [
    "euro_decisions.shape"
   ]
  },
  {
   "cell_type": "code",
   "execution_count": 47,
   "id": "f4833bc4",
   "metadata": {},
   "outputs": [],
   "source": [
    "euro_decisions = euro_decisions[~euro_decisions['citizen'].isin(['EXT_EU27_2020','EXT_EU28','TOTAL'])]"
   ]
  },
  {
   "cell_type": "code",
   "execution_count": 48,
   "id": "815d2593",
   "metadata": {},
   "outputs": [
    {
     "data": {
      "text/plain": [
       "TOTAL        2881284\n",
       "TOTAL_POS    2881284\n",
       "REJECTED     2730142\n",
       "GENCONV      2719340\n",
       "SUB_PROT     2697965\n",
       "TEMP_PROT    2344612\n",
       "HUMSTAT      2033195\n",
       "Name: decision, dtype: int64"
      ]
     },
     "execution_count": 48,
     "metadata": {},
     "output_type": "execute_result"
    }
   ],
   "source": [
    "euro_decisions['decision'].value_counts()"
   ]
  },
  {
   "cell_type": "code",
   "execution_count": 49,
   "id": "085676b5",
   "metadata": {},
   "outputs": [],
   "source": [
    "euro_decisions = euro_decisions.drop(['dataflow', 'last_update', 'freq', 'obs_flag', 'unit'], axis=1)\n",
    "#Frequency is annual;\n",
    "#Unit is per person only;\n",
    "# Flag footnote d = definition differs, see metadata \n",
    "euro_decisions = euro_decisions[~euro_decisions['age'].isin(['TOTAL'])]\n",
    "euro_decisions = euro_decisions[~euro_decisions['sex'].isin(['T'])]\n",
    "euro_decisions = euro_decisions[~euro_decisions['decision'].isin(['TOTAL', 'TEMP_PROT','SUB_PROT','GENCONV','HUMSTAT'])]"
   ]
  },
  {
   "cell_type": "code",
   "execution_count": 50,
   "id": "a509103b",
   "metadata": {},
   "outputs": [
    {
     "data": {
      "text/plain": [
       "citizen        [AD, AE, AF, AG, AL, AM, AO, AR, AT, AU, AZ, B...\n",
       "sex                                                  [F, M, UNK]\n",
       "age            [UNK, Y14-17, Y18-34, Y35-64, Y_GE65, Y_LT14, ...\n",
       "decision                                   [REJECTED, TOTAL_POS]\n",
       "geo            [AT, BE, BG, CH, CY, CZ, DE, DK, EE, EL, ES, E...\n",
       "time_period    [2008, 2009, 2010, 2011, 2012, 2013, 2014, 201...\n",
       "obs_value      [0.0, 5.0, 10.0, 15.0, 20.0, 25.0, 45.0, 150.0...\n",
       "dtype: object"
      ]
     },
     "execution_count": 50,
     "metadata": {},
     "output_type": "execute_result"
    }
   ],
   "source": [
    "euro_decisions.apply(pd.Series.unique)"
   ]
  },
  {
   "cell_type": "code",
   "execution_count": 51,
   "id": "3ef9ebbe",
   "metadata": {},
   "outputs": [
    {
     "data": {
      "text/html": [
       "<div>\n",
       "<style scoped>\n",
       "    .dataframe tbody tr th:only-of-type {\n",
       "        vertical-align: middle;\n",
       "    }\n",
       "\n",
       "    .dataframe tbody tr th {\n",
       "        vertical-align: top;\n",
       "    }\n",
       "\n",
       "    .dataframe thead th {\n",
       "        text-align: right;\n",
       "    }\n",
       "</style>\n",
       "<table border=\"1\" class=\"dataframe\">\n",
       "  <thead>\n",
       "    <tr style=\"text-align: right;\">\n",
       "      <th></th>\n",
       "      <th>citizen</th>\n",
       "      <th>sex</th>\n",
       "      <th>age</th>\n",
       "      <th>decision</th>\n",
       "      <th>geo</th>\n",
       "      <th>time_period</th>\n",
       "      <th>obs_value</th>\n",
       "    </tr>\n",
       "  </thead>\n",
       "  <tbody>\n",
       "    <tr>\n",
       "      <th>3656</th>\n",
       "      <td>AD</td>\n",
       "      <td>F</td>\n",
       "      <td>UNK</td>\n",
       "      <td>REJECTED</td>\n",
       "      <td>AT</td>\n",
       "      <td>2008</td>\n",
       "      <td>0.0</td>\n",
       "    </tr>\n",
       "    <tr>\n",
       "      <th>3657</th>\n",
       "      <td>AD</td>\n",
       "      <td>F</td>\n",
       "      <td>UNK</td>\n",
       "      <td>REJECTED</td>\n",
       "      <td>AT</td>\n",
       "      <td>2009</td>\n",
       "      <td>0.0</td>\n",
       "    </tr>\n",
       "    <tr>\n",
       "      <th>3658</th>\n",
       "      <td>AD</td>\n",
       "      <td>F</td>\n",
       "      <td>UNK</td>\n",
       "      <td>REJECTED</td>\n",
       "      <td>AT</td>\n",
       "      <td>2010</td>\n",
       "      <td>0.0</td>\n",
       "    </tr>\n",
       "    <tr>\n",
       "      <th>3659</th>\n",
       "      <td>AD</td>\n",
       "      <td>F</td>\n",
       "      <td>UNK</td>\n",
       "      <td>REJECTED</td>\n",
       "      <td>AT</td>\n",
       "      <td>2011</td>\n",
       "      <td>0.0</td>\n",
       "    </tr>\n",
       "    <tr>\n",
       "      <th>3660</th>\n",
       "      <td>AD</td>\n",
       "      <td>F</td>\n",
       "      <td>UNK</td>\n",
       "      <td>REJECTED</td>\n",
       "      <td>AT</td>\n",
       "      <td>2012</td>\n",
       "      <td>0.0</td>\n",
       "    </tr>\n",
       "  </tbody>\n",
       "</table>\n",
       "</div>"
      ],
      "text/plain": [
       "     citizen sex  age  decision geo  time_period  obs_value\n",
       "3656      AD   F  UNK  REJECTED  AT         2008        0.0\n",
       "3657      AD   F  UNK  REJECTED  AT         2009        0.0\n",
       "3658      AD   F  UNK  REJECTED  AT         2010        0.0\n",
       "3659      AD   F  UNK  REJECTED  AT         2011        0.0\n",
       "3660      AD   F  UNK  REJECTED  AT         2012        0.0"
      ]
     },
     "execution_count": 51,
     "metadata": {},
     "output_type": "execute_result"
    }
   ],
   "source": [
    "euro_decisions.head()"
   ]
  },
  {
   "cell_type": "markdown",
   "id": "c7ed50cc",
   "metadata": {},
   "source": [
    "## Creating .csv files"
   ]
  },
  {
   "cell_type": "code",
   "execution_count": 52,
   "id": "0f18cdfd",
   "metadata": {},
   "outputs": [],
   "source": [
    "from pathlib import Path  \n",
    "#Eurostat annual applications\n",
    "filepath = Path('data/Cleaned/euro_app.csv')  \n",
    "filepath.parent.mkdir(parents=True, exist_ok=True)  \n",
    "euro_applications.to_csv(filepath) \n",
    "\n",
    "#Eurostat monthly applications Nov-2019-Mar-2022\n",
    "#filepath = Path('data/Cleaned/euro_mon_app.csv')  \n",
    "#filepath.parent.mkdir(parents=True, exist_ok=True)  \n",
    "#euro_mon_app.to_csv(filepath) \n",
    "\n",
    "#Eurostat monthly applications 2018-2021\n",
    "filepath = Path('data/Cleaned/euro_mon_app2clean.csv')  \n",
    "filepath.parent.mkdir(parents=True, exist_ok=True)  \n",
    "euro_mon_app2.to_csv(filepath) \n",
    "\n",
    "#Eurostat annual decisions\n",
    "filepath = Path('data/Cleaned/euro_dec.csv')  \n",
    "filepath.parent.mkdir(parents=True, exist_ok=True)  \n",
    "euro_decisions.to_csv(filepath) "
   ]
  },
  {
   "cell_type": "code",
   "execution_count": null,
   "id": "fd476012",
   "metadata": {},
   "outputs": [],
   "source": []
  },
  {
   "cell_type": "code",
   "execution_count": null,
   "id": "5bd252a5",
   "metadata": {},
   "outputs": [],
   "source": []
  }
 ],
 "metadata": {
  "kernelspec": {
   "display_name": "Python 3 (ipykernel)",
   "language": "python",
   "name": "python3"
  },
  "language_info": {
   "codemirror_mode": {
    "name": "ipython",
    "version": 3
   },
   "file_extension": ".py",
   "mimetype": "text/x-python",
   "name": "python",
   "nbconvert_exporter": "python",
   "pygments_lexer": "ipython3",
   "version": "3.9.7"
  }
 },
 "nbformat": 4,
 "nbformat_minor": 5
}
